{
 "cells": [
  {
   "cell_type": "markdown",
   "id": "f3d9c5c7-6ffa-4e30-a029-f427587c152c",
   "metadata": {},
   "source": [
    "1.Multithreading in Python refers to the concurrent execution of multiple threads (smaller units of a process) within a single process. Each thread runs in the same memory space, allowing for data sharing and communication between threads.\n",
    "\n",
    "Why is it used?:\n",
    "\n",
    "Improving Performance: Multithreading can improve the performance of I/O-bound applications by allowing them to continue execution while waiting for I/O operations to complete.\n",
    "Parallelism: It enables parallel execution of tasks, which can lead to more efficient use of system resources.\n",
    "Responsiveness: It can make applications more responsive, especially in user interfaces where tasks like loading data or performing background operations do not block the main thread.\n",
    "Resource Sharing: Threads share the same memory space, making it easier to share data between them.\n",
    "Module Used to Handle Threads in Python:\n",
    "The threading module is used to handle threads in Python.\n",
    "\n"
   ]
  },
  {
   "cell_type": "code",
   "execution_count": 1,
   "id": "37a648cc-45f8-4fc8-bf5e-0f91ab3ac299",
   "metadata": {},
   "outputs": [
    {
     "name": "stdout",
     "output_type": "stream",
     "text": [
      "8\n",
      "<_MainThread(MainThread, started 140116953319232)>\n",
      "[<_MainThread(MainThread, started 140116953319232)>, <Thread(IOPub, started daemon 140116882789952)>, <Heartbeat(Heartbeat, started daemon 140116874397248)>, <Thread(Thread-3 (_watch_pipe_fd), started daemon 140116647466560)>, <Thread(Thread-4 (_watch_pipe_fd), started daemon 140116639073856)>, <ControlThread(Control, started daemon 140116630681152)>, <HistorySavingThread(IPythonHistorySavingThread, started 140116622288448)>, <ParentPollerUnix(Thread-2, started daemon 140116612847168)>]\n"
     ]
    },
    {
     "name": "stderr",
     "output_type": "stream",
     "text": [
      "/tmp/ipykernel_113/3869754836.py:6: DeprecationWarning: activeCount() is deprecated, use active_count() instead\n",
      "  print(threading.activeCount())\n",
      "/tmp/ipykernel_113/3869754836.py:10: DeprecationWarning: currentThread() is deprecated, use current_thread() instead\n",
      "  print(threading.currentThread())\n"
     ]
    }
   ],
   "source": [
    "#The threading module provides a higher-level, more user-friendly API for managing threads compared to the lower-level _thread module.\n",
    "#It includes features for creating, managing, and synchronizing threads.\n",
    "#activeCount:\n",
    "#Returns the number of Thread objects currently alive.\n",
    "import threading\n",
    "print(threading.activeCount())\n",
    "#currentThread:\n",
    "#Returns the Thread object representing the caller's thread of control.\n",
    "import threading\n",
    "print(threading.currentThread())\n",
    "#enumerate:\n",
    "#Returns a list of all Thread objects currently alive.\n",
    "import threading\n",
    "print(threading.enumerate())\n"
   ]
  },
  {
   "cell_type": "markdown",
   "id": "d4d6c695-dfe7-4348-a218-15140e9706d4",
   "metadata": {},
   "source": [
    "3.run:\n",
    "Defines the code that runs in the thread. This method should be overridden in a subclass.\n",
    "\n",
    "start:\n",
    "Starts the thread's activity by calling the run method in a separate thread of control.\n",
    "\n",
    "join:\n",
    "Blocks the calling thread until the thread whose join method is called terminates.\n",
    "\n",
    "isAlive:\n",
    "Returns True if the thread is still alive, otherwise False."
   ]
  },
  {
   "cell_type": "code",
   "execution_count": 2,
   "id": "bb30ab9d-f182-43ab-a2f6-5cb2da93a56a",
   "metadata": {},
   "outputs": [
    {
     "name": "stdout",
     "output_type": "stream",
     "text": [
      "Square: 1\n",
      "Square: 4\n",
      "Square: 9\n",
      "Square: 16\n",
      "Square: 25\n",
      "Cube: 1\n",
      "Cube: 8\n",
      "Cube: 27\n",
      "Cube: 64\n",
      "Cube: 125\n"
     ]
    }
   ],
   "source": [
    "import threading\n",
    "\n",
    "def print_squares(numbers):\n",
    "    for number in numbers:\n",
    "        print(f\"Square: {number ** 2}\")\n",
    "\n",
    "def print_cubes(numbers):\n",
    "    for number in numbers:\n",
    "        print(f\"Cube: {number ** 3}\")\n",
    "\n",
    "numbers = [1, 2, 3, 4, 5]\n",
    "\n",
    "thread1 = threading.Thread(target=print_squares, args=(numbers,))\n",
    "thread2 = threading.Thread(target=print_cubes, args=(numbers,))\n",
    "\n",
    "thread1.start()\n",
    "thread2.start()\n",
    "\n",
    "thread1.join()\n",
    "thread2.join()\n"
   ]
  },
  {
   "cell_type": "markdown",
   "id": "3f8c2c09-e020-43f2-8e62-0d4945bde9e0",
   "metadata": {},
   "source": [
    "5.Advantages and Disadvantages of Multithreading\n",
    "Advantages:\n",
    "\n",
    "Responsiveness: Improved application responsiveness.\n",
    "Resource Sharing: Efficient use of resources by sharing memory and data.\n",
    "Scalability: Better scalability for I/O-bound tasks.\n",
    "Concurrency: Improved concurrency in handling multiple tasks.\n",
    "Disadvantages:\n",
    "\n",
    "Complexity: Increased complexity in program design and debugging.\n",
    "Synchronization Issues: Need for careful synchronization to avoid race conditions and deadlocks.\n",
    "Global Interpreter Lock (GIL): In CPython, the GIL prevents true parallel execution of threads, limiting the performance gains for CPU-bound tasks."
   ]
  },
  {
   "cell_type": "code",
   "execution_count": null,
   "id": "cda96a2c-481b-4638-9b1f-26177dfc5aae",
   "metadata": {},
   "outputs": [],
   "source": [
    "#Deadlocks:\n",
    "#A deadlock occurs when two or more threads are blocked forever, each waiting for the other to release a resource. This typically happens when two threads acquire locks in a different order.\n",
    "\n",
    "#Example:\n",
    "import threading\n",
    "\n",
    "lock1 = threading.Lock()\n",
    "lock2 = threading.Lock()\n",
    "\n",
    "def thread1():\n",
    "    with lock1:\n",
    "        print(\"Thread 1 acquired lock1\")\n",
    "        with lock2:\n",
    "            print(\"Thread 1 acquired lock2\")\n",
    "\n",
    "def thread2():\n",
    "    with lock2:\n",
    "        print(\"Thread 2 acquired lock2\")\n",
    "        with lock1:\n",
    "            print(\"Thread 2 acquired lock1\")\n",
    "\n",
    "t1 = threading.Thread(target=thread1)\n",
    "t2 = threading.Thread(target=thread2)\n",
    "\n",
    "t1.start()\n",
    "t2.start()\n",
    "\n",
    "t1.join()\n",
    "t2.join()\n",
    "\n",
    "#Race Conditions:\n",
    "#A race condition occurs when the outcome of a program depends on the sequence or timing of uncontrollable events such as thread scheduling. This can lead to unpredictable and erroneous behavior.\n",
    "import threading\n",
    "\n",
    "counter = 0\n",
    "\n",
    "def increment_counter():\n",
    "    global counter\n",
    "    for _ in range(100000):\n",
    "        counter += 1\n",
    "\n",
    "threads = []\n",
    "for _ in range(2):\n",
    "    t = threading.Thread(target=increment_counter)\n",
    "    t.start()\n",
    "    threads.append(t)\n",
    "\n",
    "for t in threads:\n",
    "    t.join()\n",
    "\n",
    "print(counter)  # The result may not be 200000 due to race conditions\n"
   ]
  }
 ],
 "metadata": {
  "kernelspec": {
   "display_name": "Python 3 (ipykernel)",
   "language": "python",
   "name": "python3"
  },
  "language_info": {
   "codemirror_mode": {
    "name": "ipython",
    "version": 3
   },
   "file_extension": ".py",
   "mimetype": "text/x-python",
   "name": "python",
   "nbconvert_exporter": "python",
   "pygments_lexer": "ipython3",
   "version": "3.10.8"
  }
 },
 "nbformat": 4,
 "nbformat_minor": 5
}
